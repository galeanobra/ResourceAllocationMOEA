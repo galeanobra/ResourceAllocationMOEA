{
 "cells": [
  {
   "cell_type": "markdown",
   "id": "b02688cb",
   "metadata": {},
   "source": [
    "### Plot 3D approximation front from seed and run"
   ]
  },
  {
   "cell_type": "code",
   "execution_count": 18,
   "id": "a1325fa2",
   "metadata": {},
   "outputs": [
    {
     "data": {
      "application/vnd.jupyter.widget-view+json": {
       "model_id": "94021930f68844bc884860bd8911ea02",
       "version_major": 2,
       "version_minor": 0
      },
      "text/plain": [
       "VBox(children=(Dropdown(description='Topology:', options=('low', 'hybrid', 'high'), value='low'), IntSlider(va…"
      ]
     },
     "metadata": {},
     "output_type": "display_data"
    },
    {
     "data": {
      "application/vnd.jupyter.widget-view+json": {
       "model_id": "0da1476e021b497f9ecbd1f1531ab5bd",
       "version_major": 2,
       "version_minor": 0
      },
      "text/plain": [
       "Output()"
      ]
     },
     "metadata": {},
     "output_type": "display_data"
    }
   ],
   "source": [
    "import os\n",
    "import pandas as pd\n",
    "import plotly.graph_objs as go\n",
    "import ipywidgets as widgets\n",
    "from IPython.display import display\n",
    "import plotly.io as pio\n",
    "\n",
    "pio.renderers.default = 'notebook'\n",
    "\n",
    "def plot_3d_scatter(topo, seed):\n",
    "    filepath = f'./results/raw/{topo}/FUN_{seed}_feasible.csv'\n",
    "    \n",
    "    if not os.path.exists(filepath):\n",
    "        print(f\"{filepath} doesn't exist.\")\n",
    "        return\n",
    "\n",
    "    df = pd.read_csv(filepath, header=None)\n",
    "\n",
    "    x = df.iloc[:, 0]/100000000\n",
    "    y = df.iloc[:, 1]/150000\n",
    "    z = -df.iloc[:, 2]\n",
    "    \n",
    "    fig = go.Figure(data=[go.Scatter3d(\n",
    "        x=x,\n",
    "        y=y,\n",
    "        z=z,\n",
    "        mode='markers',\n",
    "        marker=dict(\n",
    "            size=5,\n",
    "            color=z,\n",
    "            colorscale='Viridis',\n",
    "            opacity=0.8\n",
    "        )\n",
    "    )])\n",
    "\n",
    "    fig.update_layout(\n",
    "        scene=dict(\n",
    "            xaxis_title='Data plane overhead',\n",
    "            yaxis_title='Signaling delay',\n",
    "            zaxis_title='Sharpe ratio'\n",
    "        )\n",
    "    )\n",
    "\n",
    "    fig.show(renderer='notebook')\n",
    "\n",
    "topo_widget = widgets.Dropdown(\n",
    "    options=['low', 'hybrid', 'high'],\n",
    "    value='low',\n",
    "    description='Topology:'\n",
    ")\n",
    "\n",
    "seed_widget = widgets.IntSlider(\n",
    "    value=0,\n",
    "    min=0,\n",
    "    max=29,\n",
    "    step=1,\n",
    "    description='Seed:'\n",
    ")\n",
    "\n",
    "def update_plot(topo, seed):\n",
    "    plot_3d_scatter(topo, seed)\n",
    "\n",
    "ui = widgets.VBox([topo_widget, seed_widget])\n",
    "out = widgets.interactive_output(update_plot, {'topo': topo_widget, 'seed': seed_widget})\n",
    "\n",
    "display(ui, out)"
   ]
  }
 ],
 "metadata": {
  "kernelspec": {
   "display_name": "Python 3 (ipykernel)",
   "language": "python",
   "name": "python3"
  },
  "language_info": {
   "codemirror_mode": {
    "name": "ipython",
    "version": 3
   },
   "file_extension": ".py",
   "mimetype": "text/x-python",
   "name": "python",
   "nbconvert_exporter": "python",
   "pygments_lexer": "ipython3",
   "version": "3.11.1"
  }
 },
 "nbformat": 4,
 "nbformat_minor": 5
}
